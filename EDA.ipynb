{
 "cells": [
  {
   "cell_type": "code",
   "execution_count": 1,
   "metadata": {
    "id": "3kILNN6AkAos"
   },
   "outputs": [],
   "source": [
    "import pandas as pd\n",
    "import numpy as np"
   ]
  },
  {
   "cell_type": "code",
   "execution_count": 2,
   "metadata": {
    "colab": {
     "base_uri": "https://localhost:8080/"
    },
    "id": "uz887OjjkGJd",
    "outputId": "710d7379-02c5-4d9d-ecf6-346d9cb5e2d1"
   },
   "outputs": [
    {
     "name": "stdout",
     "output_type": "stream",
     "text": [
      "Drive already mounted at /content/drive; to attempt to forcibly remount, call drive.mount(\"/content/drive\", force_remount=True).\n"
     ]
    }
   ],
   "source": [
    "# Load the Drive helper and mount\n",
    "from google.colab import drive\n",
    "drive.mount('/content/drive')"
   ]
  },
  {
   "cell_type": "code",
   "execution_count": 29,
   "metadata": {
    "colab": {
     "base_uri": "https://localhost:8080/"
    },
    "id": "GUi31xQakU9B",
    "outputId": "2860a28c-3134-42e1-d72d-091233352531"
   },
   "outputs": [
    {
     "name": "stdout",
     "output_type": "stream",
     "text": [
      "attributes\t\t      list_item_inshop.txt\n",
      "list_bbox_inshop.txt\t      list_landmarks_inshop.txt\n",
      "list_description_inshop.json  original_list_bbox_inshop.txt\n"
     ]
    }
   ],
   "source": [
    "! cd drive/MyDrive/Myntra_fashion_recommendation/Dataset/In-shop-Clothes-Retrieval-Benchmark/Anno && ls"
   ]
  },
  {
   "cell_type": "markdown",
   "metadata": {
    "id": "XoNZzUVfCa9d"
   },
   "source": [
    "# Fashion landmark dataset for Pose estimation"
   ]
  },
  {
   "cell_type": "code",
   "execution_count": 3,
   "metadata": {
    "colab": {
     "base_uri": "https://localhost:8080/",
     "height": 224
    },
    "id": "Cc1HSt9Nkt2U",
    "outputId": "5d82abac-4f78-4392-cb61-477d690aadd0"
   },
   "outputs": [
    {
     "data": {
      "text/html": [
       "<div>\n",
       "<style scoped>\n",
       "    .dataframe tbody tr th:only-of-type {\n",
       "        vertical-align: middle;\n",
       "    }\n",
       "\n",
       "    .dataframe tbody tr th {\n",
       "        vertical-align: top;\n",
       "    }\n",
       "\n",
       "    .dataframe thead th {\n",
       "        text-align: right;\n",
       "    }\n",
       "</style>\n",
       "<table border=\"1\" class=\"dataframe\">\n",
       "  <thead>\n",
       "    <tr style=\"text-align: right;\">\n",
       "      <th></th>\n",
       "      <th>image_name</th>\n",
       "      <th>clothes_type</th>\n",
       "      <th>variation_type</th>\n",
       "      <th>joint_visibility_1</th>\n",
       "      <th>joint_location_x_1</th>\n",
       "      <th>joint_location_y_1</th>\n",
       "      <th>joint_visibility_2</th>\n",
       "      <th>joint_location_x_2</th>\n",
       "      <th>joint_location_y_2</th>\n",
       "      <th>joint_visibility_3</th>\n",
       "      <th>joint_location_x_3</th>\n",
       "      <th>joint_location_y_3</th>\n",
       "      <th>joint_visibility_4</th>\n",
       "      <th>joint_location_x_4</th>\n",
       "      <th>joint_location_y_4</th>\n",
       "      <th>joint_visibility_5</th>\n",
       "      <th>joint_location_x_5</th>\n",
       "      <th>joint_location_y_5</th>\n",
       "      <th>joint_visibility_6</th>\n",
       "      <th>joint_location_x_6</th>\n",
       "      <th>joint_location_y_6</th>\n",
       "      <th>joint_visibility_7</th>\n",
       "      <th>joint_location_x_7</th>\n",
       "      <th>joint_location_y_7</th>\n",
       "      <th>joint_visibility_8</th>\n",
       "      <th>joint_location_x_8</th>\n",
       "      <th>joint_location_y_8</th>\n",
       "      <th>joint_visibility_9</th>\n",
       "      <th>joint_location_x_9</th>\n",
       "      <th>joint_location_y_9</th>\n",
       "      <th>joint_visibility_10</th>\n",
       "      <th>joint_location_x_10</th>\n",
       "      <th>joint_location_y_10</th>\n",
       "      <th>joint_visibility_11</th>\n",
       "      <th>joint_location_x_11</th>\n",
       "      <th>joint_location_y_11</th>\n",
       "      <th>joint_visibility_12</th>\n",
       "      <th>joint_location_x_12</th>\n",
       "      <th>joint_location_y_12</th>\n",
       "      <th>joint_visibility_13</th>\n",
       "      <th>joint_location_x_13</th>\n",
       "      <th>joint_location_y_13</th>\n",
       "      <th>joint_visibility_14</th>\n",
       "      <th>joint_location_x_14</th>\n",
       "      <th>joint_location_y_14</th>\n",
       "    </tr>\n",
       "  </thead>\n",
       "  <tbody>\n",
       "    <tr>\n",
       "      <th>0</th>\n",
       "      <td>img/img_00000001.jpg</td>\n",
       "      <td>1</td>\n",
       "      <td>1</td>\n",
       "      <td>NaN</td>\n",
       "      <td>NaN</td>\n",
       "      <td>NaN</td>\n",
       "      <td>NaN</td>\n",
       "      <td>NaN</td>\n",
       "      <td>NaN</td>\n",
       "      <td>NaN</td>\n",
       "      <td>NaN</td>\n",
       "      <td>NaN</td>\n",
       "      <td>NaN</td>\n",
       "      <td>NaN</td>\n",
       "      <td>NaN</td>\n",
       "      <td>NaN</td>\n",
       "      <td>NaN</td>\n",
       "      <td>NaN</td>\n",
       "      <td>NaN</td>\n",
       "      <td>NaN</td>\n",
       "      <td>NaN</td>\n",
       "      <td>NaN</td>\n",
       "      <td>NaN</td>\n",
       "      <td>NaN</td>\n",
       "      <td>NaN</td>\n",
       "      <td>NaN</td>\n",
       "      <td>NaN</td>\n",
       "      <td>NaN</td>\n",
       "      <td>NaN</td>\n",
       "      <td>NaN</td>\n",
       "      <td>NaN</td>\n",
       "      <td>NaN</td>\n",
       "      <td>NaN</td>\n",
       "      <td>NaN</td>\n",
       "      <td>NaN</td>\n",
       "      <td>NaN</td>\n",
       "      <td>NaN</td>\n",
       "      <td>NaN</td>\n",
       "      <td>NaN</td>\n",
       "      <td>NaN</td>\n",
       "      <td>NaN</td>\n",
       "      <td>NaN</td>\n",
       "      <td>NaN</td>\n",
       "      <td>NaN</td>\n",
       "      <td>NaN</td>\n",
       "    </tr>\n",
       "    <tr>\n",
       "      <th>1</th>\n",
       "      <td>img/img_00000002.jpg</td>\n",
       "      <td>1</td>\n",
       "      <td>3</td>\n",
       "      <td>NaN</td>\n",
       "      <td>NaN</td>\n",
       "      <td>NaN</td>\n",
       "      <td>NaN</td>\n",
       "      <td>NaN</td>\n",
       "      <td>NaN</td>\n",
       "      <td>NaN</td>\n",
       "      <td>NaN</td>\n",
       "      <td>NaN</td>\n",
       "      <td>NaN</td>\n",
       "      <td>NaN</td>\n",
       "      <td>NaN</td>\n",
       "      <td>NaN</td>\n",
       "      <td>NaN</td>\n",
       "      <td>NaN</td>\n",
       "      <td>NaN</td>\n",
       "      <td>NaN</td>\n",
       "      <td>NaN</td>\n",
       "      <td>NaN</td>\n",
       "      <td>NaN</td>\n",
       "      <td>NaN</td>\n",
       "      <td>NaN</td>\n",
       "      <td>NaN</td>\n",
       "      <td>NaN</td>\n",
       "      <td>NaN</td>\n",
       "      <td>NaN</td>\n",
       "      <td>NaN</td>\n",
       "      <td>NaN</td>\n",
       "      <td>NaN</td>\n",
       "      <td>NaN</td>\n",
       "      <td>NaN</td>\n",
       "      <td>NaN</td>\n",
       "      <td>NaN</td>\n",
       "      <td>NaN</td>\n",
       "      <td>NaN</td>\n",
       "      <td>NaN</td>\n",
       "      <td>NaN</td>\n",
       "      <td>NaN</td>\n",
       "      <td>NaN</td>\n",
       "      <td>NaN</td>\n",
       "      <td>NaN</td>\n",
       "      <td>NaN</td>\n",
       "    </tr>\n",
       "    <tr>\n",
       "      <th>2</th>\n",
       "      <td>img/img_00000003.jpg</td>\n",
       "      <td>1</td>\n",
       "      <td>1</td>\n",
       "      <td>NaN</td>\n",
       "      <td>NaN</td>\n",
       "      <td>NaN</td>\n",
       "      <td>NaN</td>\n",
       "      <td>NaN</td>\n",
       "      <td>NaN</td>\n",
       "      <td>NaN</td>\n",
       "      <td>NaN</td>\n",
       "      <td>NaN</td>\n",
       "      <td>NaN</td>\n",
       "      <td>NaN</td>\n",
       "      <td>NaN</td>\n",
       "      <td>NaN</td>\n",
       "      <td>NaN</td>\n",
       "      <td>NaN</td>\n",
       "      <td>NaN</td>\n",
       "      <td>NaN</td>\n",
       "      <td>NaN</td>\n",
       "      <td>NaN</td>\n",
       "      <td>NaN</td>\n",
       "      <td>NaN</td>\n",
       "      <td>NaN</td>\n",
       "      <td>NaN</td>\n",
       "      <td>NaN</td>\n",
       "      <td>NaN</td>\n",
       "      <td>NaN</td>\n",
       "      <td>NaN</td>\n",
       "      <td>NaN</td>\n",
       "      <td>NaN</td>\n",
       "      <td>NaN</td>\n",
       "      <td>NaN</td>\n",
       "      <td>NaN</td>\n",
       "      <td>NaN</td>\n",
       "      <td>NaN</td>\n",
       "      <td>NaN</td>\n",
       "      <td>NaN</td>\n",
       "      <td>NaN</td>\n",
       "      <td>NaN</td>\n",
       "      <td>NaN</td>\n",
       "      <td>NaN</td>\n",
       "      <td>NaN</td>\n",
       "      <td>NaN</td>\n",
       "    </tr>\n",
       "    <tr>\n",
       "      <th>3</th>\n",
       "      <td>img/img_00000004.jpg</td>\n",
       "      <td>1</td>\n",
       "      <td>2</td>\n",
       "      <td>NaN</td>\n",
       "      <td>NaN</td>\n",
       "      <td>NaN</td>\n",
       "      <td>NaN</td>\n",
       "      <td>NaN</td>\n",
       "      <td>NaN</td>\n",
       "      <td>NaN</td>\n",
       "      <td>NaN</td>\n",
       "      <td>NaN</td>\n",
       "      <td>NaN</td>\n",
       "      <td>NaN</td>\n",
       "      <td>NaN</td>\n",
       "      <td>NaN</td>\n",
       "      <td>NaN</td>\n",
       "      <td>NaN</td>\n",
       "      <td>NaN</td>\n",
       "      <td>NaN</td>\n",
       "      <td>NaN</td>\n",
       "      <td>NaN</td>\n",
       "      <td>NaN</td>\n",
       "      <td>NaN</td>\n",
       "      <td>NaN</td>\n",
       "      <td>NaN</td>\n",
       "      <td>NaN</td>\n",
       "      <td>NaN</td>\n",
       "      <td>NaN</td>\n",
       "      <td>NaN</td>\n",
       "      <td>NaN</td>\n",
       "      <td>NaN</td>\n",
       "      <td>NaN</td>\n",
       "      <td>NaN</td>\n",
       "      <td>NaN</td>\n",
       "      <td>NaN</td>\n",
       "      <td>NaN</td>\n",
       "      <td>NaN</td>\n",
       "      <td>NaN</td>\n",
       "      <td>NaN</td>\n",
       "      <td>NaN</td>\n",
       "      <td>NaN</td>\n",
       "      <td>NaN</td>\n",
       "      <td>NaN</td>\n",
       "      <td>NaN</td>\n",
       "    </tr>\n",
       "    <tr>\n",
       "      <th>4</th>\n",
       "      <td>img/img_00000005.jpg</td>\n",
       "      <td>1</td>\n",
       "      <td>1</td>\n",
       "      <td>NaN</td>\n",
       "      <td>NaN</td>\n",
       "      <td>NaN</td>\n",
       "      <td>NaN</td>\n",
       "      <td>NaN</td>\n",
       "      <td>NaN</td>\n",
       "      <td>NaN</td>\n",
       "      <td>NaN</td>\n",
       "      <td>NaN</td>\n",
       "      <td>NaN</td>\n",
       "      <td>NaN</td>\n",
       "      <td>NaN</td>\n",
       "      <td>NaN</td>\n",
       "      <td>NaN</td>\n",
       "      <td>NaN</td>\n",
       "      <td>NaN</td>\n",
       "      <td>NaN</td>\n",
       "      <td>NaN</td>\n",
       "      <td>NaN</td>\n",
       "      <td>NaN</td>\n",
       "      <td>NaN</td>\n",
       "      <td>NaN</td>\n",
       "      <td>NaN</td>\n",
       "      <td>NaN</td>\n",
       "      <td>NaN</td>\n",
       "      <td>NaN</td>\n",
       "      <td>NaN</td>\n",
       "      <td>NaN</td>\n",
       "      <td>NaN</td>\n",
       "      <td>NaN</td>\n",
       "      <td>NaN</td>\n",
       "      <td>NaN</td>\n",
       "      <td>NaN</td>\n",
       "      <td>NaN</td>\n",
       "      <td>NaN</td>\n",
       "      <td>NaN</td>\n",
       "      <td>NaN</td>\n",
       "      <td>NaN</td>\n",
       "      <td>NaN</td>\n",
       "      <td>NaN</td>\n",
       "      <td>NaN</td>\n",
       "      <td>NaN</td>\n",
       "    </tr>\n",
       "  </tbody>\n",
       "</table>\n",
       "</div>"
      ],
      "text/plain": [
       "             image_name  clothes_type  ...  joint_location_x_14  joint_location_y_14\n",
       "0  img/img_00000001.jpg             1  ...                  NaN                  NaN\n",
       "1  img/img_00000002.jpg             1  ...                  NaN                  NaN\n",
       "2  img/img_00000003.jpg             1  ...                  NaN                  NaN\n",
       "3  img/img_00000004.jpg             1  ...                  NaN                  NaN\n",
       "4  img/img_00000005.jpg             1  ...                  NaN                  NaN\n",
       "\n",
       "[5 rows x 45 columns]"
      ]
     },
     "execution_count": 3,
     "metadata": {
      "tags": []
     },
     "output_type": "execute_result"
    }
   ],
   "source": [
    "df = pd.read_csv('drive/MyDrive/Myntra_fashion_recommendation/Dataset/Fashion-Landmark-Detection-Benchmark/Anno/list_joints.txt',\n",
    "                 skiprows=0,sep=\" \",header=1)\n",
    "df.head()"
   ]
  },
  {
   "cell_type": "code",
   "execution_count": 5,
   "metadata": {
    "colab": {
     "base_uri": "https://localhost:8080/",
     "height": 382
    },
    "id": "69yJSO9jlPrH",
    "outputId": "adaafa5a-b7e7-4fd7-d47c-3f4a0dd83317"
   },
   "outputs": [
    {
     "data": {
      "image/png": "[encoded data removed]",
      "text/plain": [
       "<Figure size 720x360 with 1 Axes>"
      ]
     },
     "metadata": {
      "needs_background": "light",
      "tags": []
     },
     "output_type": "display_data"
    }
   ],
   "source": [
    "# map clothes type using Readme file of the dataset\n",
    "df.clothes_type.replace({1:'upper_body',2:'lower_body',3:'full_body'}).value_counts().plot(kind='bar',\n",
    "                                                                                           xlabel='Clothes Type',ylabel='Count',\n",
    "                                                                                           figsize=(10,5));"
   ]
  },
  {
   "cell_type": "code",
   "execution_count": 19,
   "metadata": {
    "colab": {
     "base_uri": "https://localhost:8080/"
    },
    "id": "22sgYlXMlQtD",
    "outputId": "49ee81ba-3b98-450a-8d2e-94641fec6880"
   },
   "outputs": [
    {
     "data": {
      "text/plain": [
       "39951"
      ]
     },
     "execution_count": 19,
     "metadata": {
      "tags": []
     },
     "output_type": "execute_result"
    }
   ],
   "source": [
    "# check how many full shot images have joint annotations\n",
    "len(df[(df.clothes_type==3) & ~(np.isnan(df.joint_visibility_1))])"
   ]
  },
  {
   "cell_type": "markdown",
   "metadata": {
    "id": "TtvL6lBVCtzL"
   },
   "source": [
    "### Summary:-\n",
    "* Full body images are highest with the count of 50k but only around 40k images have the joint annotations.\n",
    "* Upper and Lower body images are 42k and 31k respectively."
   ]
  },
  {
   "cell_type": "markdown",
   "metadata": {
    "id": "NdylD5jbChPT"
   },
   "source": [
    "# In-shop dataset for Article detection and localisation"
   ]
  },
  {
   "cell_type": "code",
   "execution_count": 24,
   "metadata": {
    "colab": {
     "base_uri": "https://localhost:8080/"
    },
    "id": "YeZ7pyWsLA8g",
    "outputId": "01eea456-eef0-48fe-a97e-22eaea501c17"
   },
   "outputs": [
    {
     "name": "stdout",
     "output_type": "stream",
     "text": [
      "1.0435245037078857\n"
     ]
    }
   ],
   "source": [
    "# preprocessing text file\n",
    "import time\n",
    "start = time.time()\n",
    "fin = open('drive/MyDrive/Myntra_fashion_recommendation/Dataset/In-shop-Clothes-Retrieval-Benchmark/Anno/original_list_bbox_inshop.txt',\n",
    "           \"rt\")\n",
    "fout = open('drive/MyDrive/Myntra_fashion_recommendation/Dataset/In-shop-Clothes-Retrieval-Benchmark/Anno/list_bbox_inshop.txt',\n",
    "            \"wt\")\n",
    "\n",
    "# converting more than one space to single space\n",
    "for line in fin:\n",
    "    fout.write(' '.join(line.split()))\n",
    "    fout.write('\\n')\n",
    "\n",
    "fin.close()\n",
    "fout.close()\n",
    "print(time.time()-start)"
   ]
  },
  {
   "cell_type": "code",
   "execution_count": 6,
   "metadata": {
    "colab": {
     "base_uri": "https://localhost:8080/",
     "height": 204
    },
    "id": "ClYvBO7KCpmh",
    "outputId": "32351f50-c78e-49a9-9c18-a9713373ee73"
   },
   "outputs": [
    {
     "data": {
      "text/html": [
       "<div>\n",
       "<style scoped>\n",
       "    .dataframe tbody tr th:only-of-type {\n",
       "        vertical-align: middle;\n",
       "    }\n",
       "\n",
       "    .dataframe tbody tr th {\n",
       "        vertical-align: top;\n",
       "    }\n",
       "\n",
       "    .dataframe thead th {\n",
       "        text-align: right;\n",
       "    }\n",
       "</style>\n",
       "<table border=\"1\" class=\"dataframe\">\n",
       "  <thead>\n",
       "    <tr style=\"text-align: right;\">\n",
       "      <th></th>\n",
       "      <th>image_name</th>\n",
       "      <th>clothes_type</th>\n",
       "      <th>pose_type</th>\n",
       "      <th>x_1</th>\n",
       "      <th>y_1</th>\n",
       "      <th>x_2</th>\n",
       "      <th>y_2</th>\n",
       "    </tr>\n",
       "  </thead>\n",
       "  <tbody>\n",
       "    <tr>\n",
       "      <th>52707</th>\n",
       "      <td>img/WOMEN/Jackets_Coats/id_00007982/12_7_addit...</td>\n",
       "      <td>1</td>\n",
       "      <td>5</td>\n",
       "      <td>100</td>\n",
       "      <td>38</td>\n",
       "      <td>153</td>\n",
       "      <td>143</td>\n",
       "    </tr>\n",
       "    <tr>\n",
       "      <th>52708</th>\n",
       "      <td>img/WOMEN/Jackets_Coats/id_00007982/13_1_front...</td>\n",
       "      <td>1</td>\n",
       "      <td>1</td>\n",
       "      <td>50</td>\n",
       "      <td>29</td>\n",
       "      <td>236</td>\n",
       "      <td>249</td>\n",
       "    </tr>\n",
       "    <tr>\n",
       "      <th>52709</th>\n",
       "      <td>img/WOMEN/Jackets_Coats/id_00007982/13_2_side.jpg</td>\n",
       "      <td>1</td>\n",
       "      <td>2</td>\n",
       "      <td>55</td>\n",
       "      <td>29</td>\n",
       "      <td>185</td>\n",
       "      <td>242</td>\n",
       "    </tr>\n",
       "    <tr>\n",
       "      <th>52710</th>\n",
       "      <td>img/WOMEN/Jackets_Coats/id_00007982/13_3_back.jpg</td>\n",
       "      <td>1</td>\n",
       "      <td>3</td>\n",
       "      <td>86</td>\n",
       "      <td>46</td>\n",
       "      <td>184</td>\n",
       "      <td>245</td>\n",
       "    </tr>\n",
       "    <tr>\n",
       "      <th>52711</th>\n",
       "      <td>img/WOMEN/Jackets_Coats/id_00007982/13_7_addit...</td>\n",
       "      <td>1</td>\n",
       "      <td>5</td>\n",
       "      <td>94</td>\n",
       "      <td>42</td>\n",
       "      <td>132</td>\n",
       "      <td>143</td>\n",
       "    </tr>\n",
       "  </tbody>\n",
       "</table>\n",
       "</div>"
      ],
      "text/plain": [
       "                                              image_name  ...  y_2\n",
       "52707  img/WOMEN/Jackets_Coats/id_00007982/12_7_addit...  ...  143\n",
       "52708  img/WOMEN/Jackets_Coats/id_00007982/13_1_front...  ...  249\n",
       "52709  img/WOMEN/Jackets_Coats/id_00007982/13_2_side.jpg  ...  242\n",
       "52710  img/WOMEN/Jackets_Coats/id_00007982/13_3_back.jpg  ...  245\n",
       "52711  img/WOMEN/Jackets_Coats/id_00007982/13_7_addit...  ...  143\n",
       "\n",
       "[5 rows x 7 columns]"
      ]
     },
     "execution_count": 6,
     "metadata": {
      "tags": []
     },
     "output_type": "execute_result"
    }
   ],
   "source": [
    "df2 = pd.read_csv('drive/MyDrive/Myntra_fashion_recommendation/Dataset/In-shop-Clothes-Retrieval-Benchmark/Anno/list_bbox_inshop.txt',\n",
    "                 skiprows=0,sep=\" \",header=1)\n",
    "df2.tail()"
   ]
  },
  {
   "cell_type": "code",
   "execution_count": 8,
   "metadata": {
    "colab": {
     "base_uri": "https://localhost:8080/",
     "height": 385
    },
    "id": "qSonONywLn2b",
    "outputId": "2a0339c4-cf27-4161-dc34-9cd08d55b511"
   },
   "outputs": [
    {
     "data": {
      "image/png": "[encoded data removed]",
      "text/plain": [
       "<Figure size 720x360 with 1 Axes>"
      ]
     },
     "metadata": {
      "needs_background": "light",
      "tags": []
     },
     "output_type": "display_data"
    }
   ],
   "source": [
    "# map clothes type using Readme file of the dataset\n",
    "df2.clothes_type.replace({1:'upper_body',2:'lower_body',3:'full_body'}).value_counts().plot(kind='bar',\n",
    "                                                                                            xlabel='Clothes Type',ylabel='Count',\n",
    "                                                                                            figsize=(10,5));"
   ]
  },
  {
   "cell_type": "markdown",
   "metadata": {
    "id": "NWVw9XcnonCJ"
   },
   "source": [
    "### Summary:-\n",
    "* Uper body images are highest with the count of 33k.\n",
    "* Full and Lower body images are 9k and 10k respectively."
   ]
  },
  {
   "cell_type": "code",
   "execution_count": 9,
   "metadata": {
    "colab": {
     "base_uri": "https://localhost:8080/",
     "height": 350
    },
    "id": "hW95v0_Wh1bz",
    "outputId": "817110a8-1caa-4ac8-b514-39d3133284a6"
   },
   "outputs": [
    {
     "data": {
      "image/png": "[encoded data removed]",
      "text/plain": [
       "<Figure size 720x360 with 1 Axes>"
      ]
     },
     "metadata": {
      "needs_background": "light",
      "tags": []
     },
     "output_type": "display_data"
    }
   ],
   "source": [
    "df2_copy = df2.copy()\n",
    "# get gender of clothing from image_name\n",
    "df2_copy.image_name = df2.image_name.apply(lambda x: x.split('/')[1])\n",
    "df2_copy.image_name.value_counts().plot(kind='bar', ylabel='Count', figsize=(10,5));"
   ]
  },
  {
   "cell_type": "markdown",
   "metadata": {
    "id": "wpG96nTFpStV"
   },
   "source": [
    "### Summary:-\n",
    "* Women clothes(around 45k) are way more compare to Men(around 8k)."
   ]
  },
  {
   "cell_type": "code",
   "execution_count": 10,
   "metadata": {
    "colab": {
     "base_uri": "https://localhost:8080/",
     "height": 427
    },
    "id": "7LvnK2UknTTg",
    "outputId": "fe11fd40-119a-4297-8037-1a4bceee86bf"
   },
   "outputs": [
    {
     "data": {
      "image/png": "[encoded data removed]",
      "text/plain": [
       "<Figure size 720x360 with 1 Axes>"
      ]
     },
     "metadata": {
      "needs_background": "light",
      "tags": []
     },
     "output_type": "display_data"
    }
   ],
   "source": [
    "df2_copy = df2.copy()\n",
    "# get categories of clothing from image_name\n",
    "df2_copy.image_name = df2.image_name.apply(lambda x: x.split('/')[2])\n",
    "df2_copy.image_name.value_counts().plot(kind='bar',xlabel='Clothing Category', ylabel='Count', figsize=(10,5));"
   ]
  },
  {
   "cell_type": "markdown",
   "metadata": {
    "id": "oWey9F_7p4CY"
   },
   "source": [
    "### Summary:-\n",
    "* Tees tanks is the category having largest count (around 14k).\n",
    "* There are only 39 images of Suits category."
   ]
  }
 ],
 "metadata": {
  "colab": {
   "name": "EDA",
   "provenance": []
  },
  "kernelspec": {
   "display_name": "Python 3",
   "language": "python",
   "name": "python3"
  },
  "language_info": {
   "codemirror_mode": {
    "name": "ipython",
    "version": 3
   },
   "file_extension": ".py",
   "mimetype": "text/x-python",
   "name": "python",
   "nbconvert_exporter": "python",
   "pygments_lexer": "ipython3",
   "version": "3.6.9"
  }
 },
 "nbformat": 4,
 "nbformat_minor": 1
}
